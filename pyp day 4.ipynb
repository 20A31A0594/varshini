{
 "cells": [
  {
   "cell_type": "code",
   "execution_count": 3,
   "id": "abaf664a",
   "metadata": {},
   "outputs": [],
   "source": [
    "#a=\"varshi\" after run"
   ]
  },
  {
   "cell_type": "code",
   "execution_count": null,
   "id": "9645c26b",
   "metadata": {},
   "outputs": [],
   "source": [
    "#a.tab button"
   ]
  },
  {
   "cell_type": "code",
   "execution_count": 4,
   "id": "4703937f",
   "metadata": {},
   "outputs": [
    {
     "name": "stdout",
     "output_type": "stream",
     "text": [
      "[0, 0, 0, 0, 0]\n"
     ]
    }
   ],
   "source": [
    "l=[0]*5\n",
    "print(l)"
   ]
  },
  {
   "cell_type": "code",
   "execution_count": 5,
   "id": "8e1b0629",
   "metadata": {},
   "outputs": [
    {
     "name": "stdout",
     "output_type": "stream",
     "text": [
      "[0, 1, 0, 1, 0, 1, 0, 1, 0, 1]\n"
     ]
    }
   ],
   "source": [
    "l=[0,1]*5\n",
    "print(l)"
   ]
  },
  {
   "cell_type": "code",
   "execution_count": 6,
   "id": "1187e68b",
   "metadata": {},
   "outputs": [
    {
     "name": "stdout",
     "output_type": "stream",
     "text": [
      "abcabcabcabcabc\n"
     ]
    }
   ],
   "source": [
    "l=\"abc\"*5\n",
    "print(l)"
   ]
  },
  {
   "cell_type": "code",
   "execution_count": 8,
   "id": "12decd24",
   "metadata": {},
   "outputs": [
    {
     "name": "stdout",
     "output_type": "stream",
     "text": [
      "a,b,c,a,b,c,a,b,c,a,b,c,a,b,c,\n"
     ]
    }
   ],
   "source": [
    "l=\"a,b,c,\"*5\n",
    "print(l)"
   ]
  },
  {
   "cell_type": "code",
   "execution_count": 9,
   "id": "6d000714",
   "metadata": {},
   "outputs": [
    {
     "name": "stdout",
     "output_type": "stream",
     "text": [
      "acacacacac\n"
     ]
    }
   ],
   "source": [
    "l=\"a\"\"c\"*5\n",
    "print(l)"
   ]
  },
  {
   "cell_type": "code",
   "execution_count": 10,
   "id": "cd259c53",
   "metadata": {},
   "outputs": [
    {
     "data": {
      "text/plain": [
       "15"
      ]
     },
     "execution_count": 10,
     "metadata": {},
     "output_type": "execute_result"
    }
   ],
   "source": [
    "5^10\n",
    "#5=0101\n",
    "#10=1010\n",
    "#ans:1111=15\n",
    "#vertically different digits means return true "
   ]
  },
  {
   "cell_type": "markdown",
   "id": "0be9cca3",
   "metadata": {},
   "source": [
    "# oops"
   ]
  },
  {
   "cell_type": "code",
   "execution_count": 11,
   "id": "a8b9b7f9",
   "metadata": {},
   "outputs": [
    {
     "ename": "SyntaxError",
     "evalue": "invalid syntax (897741331.py, line 6)",
     "output_type": "error",
     "traceback": [
      "\u001b[1;36m  File \u001b[1;32m\"C:\\Users\\varsh\\AppData\\Local\\Temp\\ipykernel_23852\\897741331.py\"\u001b[1;36m, line \u001b[1;32m6\u001b[0m\n\u001b[1;33m    class student\u001b[0m\n\u001b[1;37m                 ^\u001b[0m\n\u001b[1;31mSyntaxError\u001b[0m\u001b[1;31m:\u001b[0m invalid syntax\n"
     ]
    }
   ],
   "source": [
    "#the variable inside the class are known as variables\n",
    "#the methods inside the class are known as class methods\n",
    "#'self' represents that is belongs to student class \n",
    "#self does not tkaes or accept any argument\n",
    "#self links methods and class\n",
    "class student\n",
    "     name=\"\"\n",
    "     roll_no=\"\"\n",
    "     branch=\"\"\n",
    "     marks=0\n",
    "     attendence=0.0\n",
    "     is_using_transport=False\n",
    "     def view_attendence(self):\n",
    "         pass\n",
    "     def view_marks(self):\n",
    "         pass\n",
    "     def view_name(self):\n",
    "         pass\n",
    "     def update_name(self,new_name):\n",
    "         pass\n",
    "    "
   ]
  },
  {
   "cell_type": "code",
   "execution_count": 14,
   "id": "c3887c60",
   "metadata": {},
   "outputs": [
    {
     "name": "stdout",
     "output_type": "stream",
     "text": [
      "object created\n",
      "Mukesh\n"
     ]
    }
   ],
   "source": [
    "#syntax for constructor\n",
    "class Student:\n",
    "    student_name=\"\"\n",
    "    def __init__(self, name):\n",
    "        print(\"object created\")\n",
    "        print(name)\n",
    "s1=Student(\"Mukesh\")    "
   ]
  },
  {
   "cell_type": "code",
   "execution_count": 50,
   "id": "f61e0fa6",
   "metadata": {},
   "outputs": [
    {
     "name": "stdout",
     "output_type": "stream",
     "text": [
      "object created\n"
     ]
    },
    {
     "ename": "NameError",
     "evalue": "name 'student_name' is not defined",
     "output_type": "error",
     "traceback": [
      "\u001b[1;31m---------------------------------------------------------------------------\u001b[0m",
      "\u001b[1;31mNameError\u001b[0m                                 Traceback (most recent call last)",
      "\u001b[1;32m~\\AppData\\Local\\Temp\\ipykernel_23852\\3706927629.py\u001b[0m in \u001b[0;36m<module>\u001b[1;34m\u001b[0m\n\u001b[0;32m      5\u001b[0m         \u001b[0mprint\u001b[0m\u001b[1;33m(\u001b[0m\u001b[0mstudent_name\u001b[0m\u001b[1;33m)\u001b[0m\u001b[1;33m\u001b[0m\u001b[1;33m\u001b[0m\u001b[0m\n\u001b[0;32m      6\u001b[0m         \u001b[1;31m#print(name)\u001b[0m\u001b[1;33m\u001b[0m\u001b[1;33m\u001b[0m\u001b[0m\n\u001b[1;32m----> 7\u001b[1;33m \u001b[0ms1\u001b[0m\u001b[1;33m=\u001b[0m\u001b[0mStudent\u001b[0m\u001b[1;33m(\u001b[0m\u001b[1;34m\"mukesh\"\u001b[0m\u001b[1;33m)\u001b[0m\u001b[1;33m\u001b[0m\u001b[1;33m\u001b[0m\u001b[0m\n\u001b[0m",
      "\u001b[1;32m~\\AppData\\Local\\Temp\\ipykernel_23852\\3706927629.py\u001b[0m in \u001b[0;36m__init__\u001b[1;34m(self, name)\u001b[0m\n\u001b[0;32m      3\u001b[0m     \u001b[1;32mdef\u001b[0m \u001b[0m__init__\u001b[0m\u001b[1;33m(\u001b[0m\u001b[0mself\u001b[0m\u001b[1;33m,\u001b[0m \u001b[0mname\u001b[0m\u001b[1;33m)\u001b[0m\u001b[1;33m:\u001b[0m\u001b[1;33m\u001b[0m\u001b[1;33m\u001b[0m\u001b[0m\n\u001b[0;32m      4\u001b[0m         \u001b[0mprint\u001b[0m\u001b[1;33m(\u001b[0m\u001b[1;34m\"object created\"\u001b[0m\u001b[1;33m)\u001b[0m\u001b[1;33m\u001b[0m\u001b[1;33m\u001b[0m\u001b[0m\n\u001b[1;32m----> 5\u001b[1;33m         \u001b[0mprint\u001b[0m\u001b[1;33m(\u001b[0m\u001b[0mstudent_name\u001b[0m\u001b[1;33m)\u001b[0m\u001b[1;33m\u001b[0m\u001b[1;33m\u001b[0m\u001b[0m\n\u001b[0m\u001b[0;32m      6\u001b[0m         \u001b[1;31m#print(name)\u001b[0m\u001b[1;33m\u001b[0m\u001b[1;33m\u001b[0m\u001b[0m\n\u001b[0;32m      7\u001b[0m \u001b[0ms1\u001b[0m\u001b[1;33m=\u001b[0m\u001b[0mStudent\u001b[0m\u001b[1;33m(\u001b[0m\u001b[1;34m\"mukesh\"\u001b[0m\u001b[1;33m)\u001b[0m\u001b[1;33m\u001b[0m\u001b[1;33m\u001b[0m\u001b[0m\n",
      "\u001b[1;31mNameError\u001b[0m: name 'student_name' is not defined"
     ]
    }
   ],
   "source": [
    "class Student:\n",
    "    Student_name=\"no\"\n",
    "    def __init__(self, name):\n",
    "        print(\"object created\")\n",
    "        print(student_name)\n",
    "        #print(name)\n",
    "s1=Student(\"mukesh\")  "
   ]
  },
  {
   "cell_type": "code",
   "execution_count": 25,
   "id": "a16331a5",
   "metadata": {},
   "outputs": [
    {
     "name": "stdout",
     "output_type": "stream",
     "text": [
      "ramesh\n"
     ]
    }
   ],
   "source": [
    "class Student:\n",
    "    student_name=\"no name\"\n",
    "    def __init__(self, name):\n",
    "        self.student_name = name\n",
    "s1=Student(\"Mukesh\")        \n",
    "s2=Student(\"ramesh\")\n",
    "s3=Student(\"sukesh\")\n",
    "print(s2.student_name)\n"
   ]
  },
  {
   "cell_type": "code",
   "execution_count": 23,
   "id": "6643dc42",
   "metadata": {},
   "outputs": [
    {
     "name": "stdout",
     "output_type": "stream",
     "text": [
      "object created\n",
      "No name\n"
     ]
    }
   ],
   "source": [
    "class Student:\n",
    "    student_name=\"No name\"\n",
    "    def __init__(self,name):\n",
    "        print(\"object created\")\n",
    "        print(self.student_name)\n",
    "s1=Student(\"Mukesh\")  "
   ]
  },
  {
   "cell_type": "code",
   "execution_count": 34,
   "id": "57b4ebfb",
   "metadata": {},
   "outputs": [
    {
     "name": "stdout",
     "output_type": "stream",
     "text": [
      "5\n",
      "8\n",
      "no elements found\n"
     ]
    }
   ],
   "source": [
    "n=int(input())\n",
    "arr=list(map(int,input().split()))\n",
    "flag=False\n",
    "ans=[]\n",
    "for i in arr:\n",
    "    if arr.count(i)>1 and i not in ans:\n",
    "     flag=True\n",
    "     ans.append(i)\n",
    "if len(ans)>0:\n",
    "    print(ans)\n",
    "else:\n",
    "    print(\"no elements found\")"
   ]
  },
  {
   "cell_type": "code",
   "execution_count": 38,
   "id": "320c63fc",
   "metadata": {},
   "outputs": [
    {
     "name": "stdout",
     "output_type": "stream",
     "text": [
      "ramesh chowdary\n"
     ]
    }
   ],
   "source": [
    "#renaming\n",
    "class Student:\n",
    "    student_name=\"no name\"\n",
    "    def __init__(self, name):\n",
    "        self.student_name = name\n",
    "s1=Student(\"Mukesh\")        \n",
    "s2=Student(\"ramesh\")\n",
    "s3=Student(\"sukesh\")\n",
    "s2.student_name=\"ramesh chowdary\"\n",
    "print(s2.student_name)\n"
   ]
  },
  {
   "cell_type": "code",
   "execution_count": 40,
   "id": "fc4cb56f",
   "metadata": {},
   "outputs": [
    {
     "name": "stdout",
     "output_type": "stream",
     "text": [
      "ramesh\n",
      "ramesh chowdary\n"
     ]
    }
   ],
   "source": [
    "class Student:\n",
    "    student_name=\"no name\"\n",
    "    def __init__(self, name):\n",
    "        self.student_name = name\n",
    "    def update_name(self,new_name):\n",
    "        self.student_name=new_name\n",
    "s1=Student(\"Mukesh\")        \n",
    "s2=Student(\"ramesh\")\n",
    "s3=Student(\"sukesh\")\n",
    "print(s2.student_name)\n",
    "s2.student_name=\"ramesh chowdary\"\n",
    "print(s2.student_name)"
   ]
  },
  {
   "cell_type": "code",
   "execution_count": 1,
   "id": "edfa1ec0",
   "metadata": {},
   "outputs": [],
   "source": [
    "a=\"s tring\""
   ]
  },
  {
   "cell_type": "code",
   "execution_count": 2,
   "id": "54f6bd51",
   "metadata": {},
   "outputs": [
    {
     "data": {
      "text/plain": [
       "'s-tring'"
      ]
     },
     "execution_count": 2,
     "metadata": {},
     "output_type": "execute_result"
    }
   ],
   "source": [
    "a.replace(\" \",\"-\")"
   ]
  },
  {
   "cell_type": "code",
   "execution_count": 4,
   "id": "59b18809",
   "metadata": {},
   "outputs": [],
   "source": [
    "class User:\n",
    "    full_name =\"\"\n",
    "    email=\"\"\n",
    "    __password=\"\"\n",
    "    mobile_number =\"\"\n",
    "    def update_name(self,new_name):\n",
    "        self.full_name=full_name\n",
    "    def get_name(self):\n",
    "        return self.full_name\n",
    "    def update_password(self, new_password):\n",
    "        pass\n",
    "    def update_mobile_number(self, new_number):\n",
    "        pass\n",
    "    def get_user_password(self):\n",
    "        return self.__password"
   ]
  },
  {
   "cell_type": "code",
   "execution_count": 5,
   "id": "83089a79",
   "metadata": {},
   "outputs": [],
   "source": [
    "a=\"varshini\""
   ]
  },
  {
   "cell_type": "code",
   "execution_count": 6,
   "id": "01c47630",
   "metadata": {},
   "outputs": [
    {
     "data": {
      "text/plain": [
       "'Varshini'"
      ]
     },
     "execution_count": 6,
     "metadata": {},
     "output_type": "execute_result"
    }
   ],
   "source": [
    "a.capitalize()"
   ]
  },
  {
   "cell_type": "code",
   "execution_count": 10,
   "id": "db0045d2",
   "metadata": {},
   "outputs": [],
   "source": [
    "a=\"varshini\""
   ]
  },
  {
   "cell_type": "code",
   "execution_count": 14,
   "id": "88a63b0c",
   "metadata": {},
   "outputs": [
    {
     "data": {
      "text/plain": [
       "False"
      ]
     },
     "execution_count": 14,
     "metadata": {},
     "output_type": "execute_result"
    }
   ],
   "source": [
    "a.isupper()"
   ]
  },
  {
   "cell_type": "code",
   "execution_count": 15,
   "id": "74bc277f",
   "metadata": {},
   "outputs": [
    {
     "ename": "ModuleNotFoundError",
     "evalue": "No module named 'User'",
     "output_type": "error",
     "traceback": [
      "\u001b[1;31m---------------------------------------------------------------------------\u001b[0m",
      "\u001b[1;31mModuleNotFoundError\u001b[0m                       Traceback (most recent call last)",
      "\u001b[1;32m~\\AppData\\Local\\Temp\\ipykernel_25188\\2601043186.py\u001b[0m in \u001b[0;36m<module>\u001b[1;34m\u001b[0m\n\u001b[1;32m----> 1\u001b[1;33m \u001b[1;32mfrom\u001b[0m \u001b[0mUser\u001b[0m \u001b[1;32mimport\u001b[0m \u001b[0mUserClass\u001b[0m\u001b[1;33m\u001b[0m\u001b[1;33m\u001b[0m\u001b[0m\n\u001b[0m\u001b[0;32m      2\u001b[0m \u001b[1;33m\u001b[0m\u001b[0m\n\u001b[0;32m      3\u001b[0m \u001b[1;32mclass\u001b[0m \u001b[0mLogin\u001b[0m\u001b[1;33m:\u001b[0m\u001b[1;33m\u001b[0m\u001b[1;33m\u001b[0m\u001b[0m\n\u001b[0;32m      4\u001b[0m     \u001b[0m__db\u001b[0m \u001b[1;33m=\u001b[0m \u001b[1;33m[\u001b[0m\u001b[1;33m]\u001b[0m\u001b[1;33m\u001b[0m\u001b[1;33m\u001b[0m\u001b[0m\n\u001b[0;32m      5\u001b[0m     \u001b[1;32mdef\u001b[0m \u001b[0m_init_\u001b[0m\u001b[1;33m(\u001b[0m\u001b[0mself\u001b[0m\u001b[1;33m)\u001b[0m\u001b[1;33m:\u001b[0m\u001b[1;33m\u001b[0m\u001b[1;33m\u001b[0m\u001b[0m\n",
      "\u001b[1;31mModuleNotFoundError\u001b[0m: No module named 'User'"
     ]
    }
   ],
   "source": [
    "from User import UserClass\n",
    "\n",
    "class Login:\n",
    "    __db = []\n",
    "    def _init_(self):\n",
    "        self.print_menu()\n",
    "    def print_menu(self):\n",
    "        print(\"Welcome User\")\n",
    "        print(\"1. Register\")\n",
    "        print(\"2. Login\")\n",
    "        print(\"3. Exit\")\n",
    "    def create_user(self, name, email, password):\n",
    "        new_user = UserClass(name, email, password)\n",
    "        self.__db.append(new_user)\n",
    "        print(self.__db)\n",
    "        return True\n",
    "    def validate_user(self, email, password):\n",
    "        pass\n",
    "\n",
    "obj = Login()\n",
    "while True:\n",
    "    option = input(\"Enter your choice: \")\n",
    "    if option == '1':\n",
    "        name = input(\"Enter your full name: \")\n",
    "        email = input(\"Enter Email: \")\n",
    "        password = input(\"create new password: \")\n",
    "        res = obj.create_user(name,email, password)\n",
    "        if res == True:\n",
    "            print(\"User created successfully\")\n",
    "    elif option == '2':\n",
    "        pass\n",
    "    elif option == '3':\n",
    "        break\n",
    "    else:\n",
    "        print(\"Invalid Input\")"
   ]
  },
  {
   "cell_type": "code",
   "execution_count": 16,
   "id": "11ffe321",
   "metadata": {},
   "outputs": [],
   "source": [
    "class UserClass:\n",
    "    full_name = \"\"\n",
    "    email=\"\"\n",
    "    __password=\"\"\n",
    "    mobile_number = \"\"\n",
    "    def _init_(self, name, email, password):\n",
    "        self.full_name = name\n",
    "        self.email = email\n",
    "        self.__password = password\n",
    "    def update_name(self, new_name):\n",
    "        self.full_name = new_name\n",
    "    def get_name(self):\n",
    "        return self.full_name\n",
    "    \"\"\" setter method for private variable password \"\"\"\n",
    "    def update_password(self, new_password):\n",
    "        self.__password = new_password\n",
    "    def update_mobile_number(self, new_number):\n",
    "        self.mobile_number = new_number\n",
    "    \"\"\" getter method for private variable password \"\"\"\n",
    "    def get_user_password(self):\n",
    "        return self.__password"
   ]
  },
  {
   "cell_type": "code",
   "execution_count": 37,
   "id": "8153e5a4",
   "metadata": {},
   "outputs": [],
   "source": [
    "a=\"varshini\""
   ]
  },
  {
   "cell_type": "code",
   "execution_count": 23,
   "id": "ab52debc",
   "metadata": {},
   "outputs": [
    {
     "data": {
      "text/plain": [
       "'VARSHINI'"
      ]
     },
     "execution_count": 23,
     "metadata": {},
     "output_type": "execute_result"
    }
   ],
   "source": [
    "a.swapcase()"
   ]
  },
  {
   "cell_type": "code",
   "execution_count": 24,
   "id": "7424402a",
   "metadata": {},
   "outputs": [
    {
     "data": {
      "text/plain": [
       "'Varshini'"
      ]
     },
     "execution_count": 24,
     "metadata": {},
     "output_type": "execute_result"
    }
   ],
   "source": [
    "a.title()"
   ]
  },
  {
   "cell_type": "code",
   "execution_count": 25,
   "id": "42e8e74e",
   "metadata": {},
   "outputs": [
    {
     "data": {
      "text/plain": [
       "'varshini'"
      ]
     },
     "execution_count": 25,
     "metadata": {},
     "output_type": "execute_result"
    }
   ],
   "source": [
    "a.casefold()"
   ]
  },
  {
   "cell_type": "code",
   "execution_count": 70,
   "id": "15522561",
   "metadata": {},
   "outputs": [],
   "source": [
    "a=\"AK44hi\""
   ]
  },
  {
   "cell_type": "code",
   "execution_count": 71,
   "id": "2c8c7e24",
   "metadata": {},
   "outputs": [
    {
     "data": {
      "text/plain": [
       "'ak44hi'"
      ]
     },
     "execution_count": 71,
     "metadata": {},
     "output_type": "execute_result"
    }
   ],
   "source": [
    "a.casefold()"
   ]
  },
  {
   "cell_type": "code",
   "execution_count": 72,
   "id": "b53f0d73",
   "metadata": {},
   "outputs": [
    {
     "data": {
      "text/plain": [
       "b'AK44hi'"
      ]
     },
     "execution_count": 72,
     "metadata": {},
     "output_type": "execute_result"
    }
   ],
   "source": [
    "a.encode()"
   ]
  },
  {
   "cell_type": "code",
   "execution_count": 73,
   "id": "0467bc80",
   "metadata": {},
   "outputs": [
    {
     "data": {
      "text/plain": [
       "True"
      ]
     },
     "execution_count": 73,
     "metadata": {},
     "output_type": "execute_result"
    }
   ],
   "source": [
    "a.endswith(\"i\")"
   ]
  },
  {
   "cell_type": "code",
   "execution_count": 74,
   "id": "7fa4c3bd",
   "metadata": {},
   "outputs": [
    {
     "data": {
      "text/plain": [
       "'AK44hi'"
      ]
     },
     "execution_count": 74,
     "metadata": {},
     "output_type": "execute_result"
    }
   ],
   "source": [
    "a.expandtabs()"
   ]
  },
  {
   "cell_type": "code",
   "execution_count": 75,
   "id": "07390f2f",
   "metadata": {},
   "outputs": [
    {
     "data": {
      "text/plain": [
       "True"
      ]
     },
     "execution_count": 75,
     "metadata": {},
     "output_type": "execute_result"
    }
   ],
   "source": [
    "a.isalnum()"
   ]
  },
  {
   "cell_type": "code",
   "execution_count": 76,
   "id": "63248c89",
   "metadata": {},
   "outputs": [
    {
     "data": {
      "text/plain": [
       "0"
      ]
     },
     "execution_count": 76,
     "metadata": {},
     "output_type": "execute_result"
    }
   ],
   "source": [
    "a.find(\"AK\")"
   ]
  },
  {
   "cell_type": "code",
   "execution_count": 77,
   "id": "649af630",
   "metadata": {},
   "outputs": [
    {
     "data": {
      "text/plain": [
       "0"
      ]
     },
     "execution_count": 77,
     "metadata": {},
     "output_type": "execute_result"
    }
   ],
   "source": [
    "a.index(\"AK\")"
   ]
  },
  {
   "cell_type": "code",
   "execution_count": 78,
   "id": "8ede8472",
   "metadata": {},
   "outputs": [
    {
     "data": {
      "text/plain": [
       "False"
      ]
     },
     "execution_count": 78,
     "metadata": {},
     "output_type": "execute_result"
    }
   ],
   "source": [
    "a.isalpha()"
   ]
  },
  {
   "cell_type": "code",
   "execution_count": 79,
   "id": "dc41c0cf",
   "metadata": {},
   "outputs": [
    {
     "data": {
      "text/plain": [
       "True"
      ]
     },
     "execution_count": 79,
     "metadata": {},
     "output_type": "execute_result"
    }
   ],
   "source": [
    "a.isascii()"
   ]
  },
  {
   "cell_type": "code",
   "execution_count": 80,
   "id": "714c7b6e",
   "metadata": {},
   "outputs": [
    {
     "data": {
      "text/plain": [
       "False"
      ]
     },
     "execution_count": 80,
     "metadata": {},
     "output_type": "execute_result"
    }
   ],
   "source": [
    "a.isdecimal()"
   ]
  },
  {
   "cell_type": "code",
   "execution_count": 81,
   "id": "88e4e1ea",
   "metadata": {},
   "outputs": [
    {
     "data": {
      "text/plain": [
       "False"
      ]
     },
     "execution_count": 81,
     "metadata": {},
     "output_type": "execute_result"
    }
   ],
   "source": [
    "a.isdigit()"
   ]
  },
  {
   "cell_type": "code",
   "execution_count": 82,
   "id": "52d9b4dd",
   "metadata": {},
   "outputs": [
    {
     "data": {
      "text/plain": [
       "True"
      ]
     },
     "execution_count": 82,
     "metadata": {},
     "output_type": "execute_result"
    }
   ],
   "source": [
    "a.isidentifier()"
   ]
  },
  {
   "cell_type": "code",
   "execution_count": 83,
   "id": "188afb2d",
   "metadata": {},
   "outputs": [
    {
     "data": {
      "text/plain": [
       "False"
      ]
     },
     "execution_count": 83,
     "metadata": {},
     "output_type": "execute_result"
    }
   ],
   "source": [
    "a.islower()"
   ]
  },
  {
   "cell_type": "code",
   "execution_count": 84,
   "id": "e3adb086",
   "metadata": {},
   "outputs": [
    {
     "data": {
      "text/plain": [
       "False"
      ]
     },
     "execution_count": 84,
     "metadata": {},
     "output_type": "execute_result"
    }
   ],
   "source": [
    "a.isnumeric()"
   ]
  },
  {
   "cell_type": "code",
   "execution_count": 85,
   "id": "862782ca",
   "metadata": {},
   "outputs": [
    {
     "data": {
      "text/plain": [
       "'Ak44Hi'"
      ]
     },
     "execution_count": 85,
     "metadata": {},
     "output_type": "execute_result"
    }
   ],
   "source": [
    "a.title()"
   ]
  },
  {
   "cell_type": "code",
   "execution_count": 86,
   "id": "d117cbd9",
   "metadata": {},
   "outputs": [
    {
     "data": {
      "text/plain": [
       "'Ak44hi'"
      ]
     },
     "execution_count": 86,
     "metadata": {},
     "output_type": "execute_result"
    }
   ],
   "source": [
    "a.capitalize()"
   ]
  },
  {
   "cell_type": "code",
   "execution_count": 89,
   "id": "8155ee57",
   "metadata": {},
   "outputs": [
    {
     "data": {
      "text/plain": [
       "'44hi'"
      ]
     },
     "execution_count": 89,
     "metadata": {},
     "output_type": "execute_result"
    }
   ],
   "source": [
    "a.strip(\"AK\")"
   ]
  },
  {
   "cell_type": "code",
   "execution_count": 92,
   "id": "13b67560",
   "metadata": {},
   "outputs": [],
   "source": [
    "a=\"varshi\"\n",
    "b=\"bala\"\n"
   ]
  },
  {
   "cell_type": "code",
   "execution_count": 95,
   "id": "a71a73e1",
   "metadata": {},
   "outputs": [
    {
     "data": {
      "text/plain": [
       "'bvarshiavarshilvarshia'"
      ]
     },
     "execution_count": 95,
     "metadata": {},
     "output_type": "execute_result"
    }
   ],
   "source": [
    "a.join(b)"
   ]
  },
  {
   "cell_type": "code",
   "execution_count": null,
   "id": "9a65d5c9",
   "metadata": {},
   "outputs": [],
   "source": []
  }
 ],
 "metadata": {
  "kernelspec": {
   "display_name": "Python 3 (ipykernel)",
   "language": "python",
   "name": "python3"
  },
  "language_info": {
   "codemirror_mode": {
    "name": "ipython",
    "version": 3
   },
   "file_extension": ".py",
   "mimetype": "text/x-python",
   "name": "python",
   "nbconvert_exporter": "python",
   "pygments_lexer": "ipython3",
   "version": "3.9.13"
  }
 },
 "nbformat": 4,
 "nbformat_minor": 5
}

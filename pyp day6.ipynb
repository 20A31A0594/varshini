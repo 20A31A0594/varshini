{
 "cells": [
  {
   "cell_type": "code",
   "execution_count": 1,
   "id": "8c233750",
   "metadata": {},
   "outputs": [
    {
     "ename": "ModuleNotFoundError",
     "evalue": "No module named 'translate'",
     "output_type": "error",
     "traceback": [
      "\u001b[1;31m---------------------------------------------------------------------------\u001b[0m",
      "\u001b[1;31mModuleNotFoundError\u001b[0m                       Traceback (most recent call last)",
      "\u001b[1;32m~\\AppData\\Local\\Temp\\ipykernel_12268\\3813313717.py\u001b[0m in \u001b[0;36m<module>\u001b[1;34m\u001b[0m\n\u001b[1;32m----> 1\u001b[1;33m \u001b[1;32mfrom\u001b[0m \u001b[0mtranslate\u001b[0m \u001b[1;32mimport\u001b[0m \u001b[0mTranslator\u001b[0m\u001b[1;33m\u001b[0m\u001b[1;33m\u001b[0m\u001b[0m\n\u001b[0m\u001b[0;32m      2\u001b[0m \u001b[0mobj\u001b[0m \u001b[1;33m=\u001b[0m \u001b[0mTranslator\u001b[0m\u001b[1;33m(\u001b[0m\u001b[0mfrom_lang\u001b[0m\u001b[1;33m=\u001b[0m\u001b[1;34m\"english\"\u001b[0m\u001b[1;33m,\u001b[0m \u001b[0mto_lang\u001b[0m\u001b[1;33m=\u001b[0m\u001b[1;34m\"hindi\"\u001b[0m\u001b[1;33m)\u001b[0m\u001b[1;33m\u001b[0m\u001b[1;33m\u001b[0m\u001b[0m\n\u001b[0;32m      3\u001b[0m \u001b[0mnew_name\u001b[0m \u001b[1;33m=\u001b[0m \u001b[0mobj\u001b[0m\u001b[1;33m.\u001b[0m\u001b[0mtranslate\u001b[0m\u001b[1;33m(\u001b[0m\u001b[1;34m\"varsh\"\u001b[0m\u001b[1;33m)\u001b[0m\u001b[1;33m\u001b[0m\u001b[1;33m\u001b[0m\u001b[0m\n\u001b[0;32m      4\u001b[0m \u001b[0mprint\u001b[0m\u001b[1;33m(\u001b[0m\u001b[0mnew_name\u001b[0m\u001b[1;33m)\u001b[0m\u001b[1;33m\u001b[0m\u001b[1;33m\u001b[0m\u001b[0m\n",
      "\u001b[1;31mModuleNotFoundError\u001b[0m: No module named 'translate'"
     ]
    }
   ],
   "source": [
    "from translate import Translator\n",
    "obj = Translator(from_lang=\"english\", to_lang=\"Telugu\")\n",
    "new_name = obj.translate(\"jyothika\")\n",
    "print(new_name)"
   ]
  },
  {
   "cell_type": "markdown",
   "id": "985d2533",
   "metadata": {},
   "source": [
    "def m1(a,b,c):\n",
    "    print(a+b+c)\n",
    "print(m1(1+2+3))\n",
    "class A:\n",
    "    def m1(self):\n",
    "        print(\"in class A\")\n",
    "class B(A):\n",
    "    def m1(self):        \n",
    "    print('in class B')\n",
    "obj=B()\n",
    "obj.m1()\n",
    "        "
   ]
  },
  {
   "cell_type": "code",
   "execution_count": 4,
   "id": "3a5452d6",
   "metadata": {},
   "outputs": [
    {
     "name": "stdout",
     "output_type": "stream",
     "text": [
      "in class B\n"
     ]
    }
   ],
   "source": [
    "#different classes has same methods maens mmethod over riding \n",
    "class A: \n",
    "    def m1(self):\n",
    "        print(\"in class A\")\n",
    "class B(A):\n",
    "    def m1(self):\n",
    "        print('in class B')\n",
    "obj=B()\n",
    "obj.m1()"
   ]
  },
  {
   "cell_type": "code",
   "execution_count": 5,
   "id": "c84cb625",
   "metadata": {},
   "outputs": [
    {
     "name": "stdout",
     "output_type": "stream",
     "text": [
      "6\n"
     ]
    }
   ],
   "source": [
    "def m1(a,b,c): \n",
    "    print(a+b+c)\n",
    "m1(1,2,3)"
   ]
  },
  {
   "cell_type": "code",
   "execution_count": 6,
   "id": "702db0b0",
   "metadata": {},
   "outputs": [
    {
     "name": "stdout",
     "output_type": "stream",
     "text": [
      "6000\n",
      "None\n",
      "6000\n",
      "None\n"
     ]
    }
   ],
   "source": [
    "#method overloading(same method name in different signature\n",
    "def m1(a,b,c=0):\n",
    "    print(a+b)\n",
    "def m1(a,b,c):\n",
    "    print(a*b*c)\n",
    "print(m1(10,20,30))\n",
    "print(m1(10,20,30))\n"
   ]
  },
  {
   "cell_type": "code",
   "execution_count": 10,
   "id": "fc0c788c",
   "metadata": {},
   "outputs": [
    {
     "name": "stdout",
     "output_type": "stream",
     "text": [
      "calculate_area\n"
     ]
    }
   ],
   "source": [
    "from abc import ABC\n",
    "class Area(ABC):\n",
    "    def calculate_area(self):\n",
    "        print(\"calculate_area\")\n",
    "        #pass \n",
    "class SQuare(Area):\n",
    "    pass\n",
    "class Rectangle(Area):\n",
    "    pass\n",
    "ob = SQuare()\n",
    "ob.calculate_area()"
   ]
  },
  {
   "cell_type": "code",
   "execution_count": 16,
   "id": "b8d3a078",
   "metadata": {},
   "outputs": [
    {
     "name": "stdout",
     "output_type": "stream",
     "text": [
      "they are adult\n"
     ]
    }
   ],
   "source": [
    "class school: \n",
    "    def m1(self):\n",
    "        print(\"they are in teen\")\n",
    "class college(school):\n",
    "    def m1(self):\n",
    "        print(\"they are adult\")\n",
    "obj=college()\n",
    "obj.m1()"
   ]
  },
  {
   "cell_type": "code",
   "execution_count": 17,
   "id": "4a727837",
   "metadata": {},
   "outputs": [
    {
     "name": "stdout",
     "output_type": "stream",
     "text": [
      "they are in teen\n"
     ]
    }
   ],
   "source": [
    "class school: \n",
    "    def m1(self):\n",
    "        print(\"they are in teen\")\n",
    "class college(school):\n",
    "    def m1(self):\n",
    "        print(\"they are adult\")\n",
    "obj=school()\n",
    "obj.m1()"
   ]
  },
  {
   "cell_type": "code",
   "execution_count": 21,
   "id": "37d1d5e9",
   "metadata": {},
   "outputs": [
    {
     "name": "stdout",
     "output_type": "stream",
     "text": [
      "in square calculate_area method\n",
      "in circle calculate_area method\n",
      "in circle calculate_circle area method\n"
     ]
    }
   ],
   "source": [
    "from abc import ABC,abstractmethod\n",
    "\n",
    "class Area(ABC): #it is an abstract class\n",
    "    @abstractmethod #annotation\n",
    "    def calculate_area(self): #it is an abstract method\n",
    "        pass\n",
    "    @abstractmethod\n",
    "    def calculate_circle_area(self): #it is an abstract method\n",
    "        pass\n",
    "\n",
    "\n",
    "class Square(Area):\n",
    "    def calculate_area(self):\n",
    "        print(\"in square calculate_area method\")\n",
    "    def calculate_circle_area(self):#it is an abstractmethod we must have to define it if we no need it\n",
    "        pass                          #,if not written gives error\"\"\"\n",
    "\n",
    "\n",
    "class Circle(Area):\n",
    "    def calculate_area(self):\n",
    "         print(\"in circle calculate_area method\")\n",
    "    def calculate_circle_area(self):\n",
    "        print(\"in circle calculate_circle area method\")\n",
    "\n",
    "ob=Square()\n",
    "ob.calculate_area()\n",
    "ob.calculate_circle_area()\n",
    "\n",
    "ob1=Circle()\n",
    "ob1.calculate_area()\n",
    "ob1.calculate_circle_area()"
   ]
  },
  {
   "cell_type": "code",
   "execution_count": null,
   "id": "edeccf26",
   "metadata": {},
   "outputs": [],
   "source": []
  },
  {
   "cell_type": "code",
   "execution_count": null,
   "id": "0fa5f72a",
   "metadata": {},
   "outputs": [],
   "source": []
  }
 ],
 "metadata": {
  "kernelspec": {
   "display_name": "Python 3 (ipykernel)",
   "language": "python",
   "name": "python3"
  },
  "language_info": {
   "codemirror_mode": {
    "name": "ipython",
    "version": 3
   },
   "file_extension": ".py",
   "mimetype": "text/x-python",
   "name": "python",
   "nbconvert_exporter": "python",
   "pygments_lexer": "ipython3",
   "version": "3.9.13"
  }
 },
 "nbformat": 4,
 "nbformat_minor": 5
}

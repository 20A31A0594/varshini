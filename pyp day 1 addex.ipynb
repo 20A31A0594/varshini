{
 "cells": [
  {
   "cell_type": "code",
   "execution_count": null,
   "id": "bc30bf56",
   "metadata": {},
   "outputs": [
    {
     "name": "stdout",
     "output_type": "stream",
     "text": [
      "enter key 1:2\n",
      "enter key 2:3\n",
      "{'key1': '2', 'key2': '3'}\n",
      "enter key 1:4\n",
      "enter key 2:5\n",
      "{'key1': '4', 'key2': '5'}\n"
     ]
    }
   ],
   "source": [
    "# take 5 values and keys in dictionary and show in list\n",
    "l=[]\n",
    "for i in range(5):\n",
    "    d ={\n",
    "        'key1': input('enter key 1:'),\n",
    "        'key2': input('enter key 2:')\n",
    "    }\n",
    "    l.append(d)\n",
    "    print(d)"
   ]
  },
  {
   "cell_type": "code",
   "execution_count": 1,
   "id": "4bc8bca9",
   "metadata": {},
   "outputs": [
    {
     "name": "stdout",
     "output_type": "stream",
     "text": [
      "[100, 2, 3]\n",
      "[100, 2, 3]\n"
     ]
    }
   ],
   "source": [
    "a=[1,2,3]\n",
    "b=a\n",
    "b[0]=100\n",
    "print(a)\n",
    "print(b)"
   ]
  },
  {
   "cell_type": "code",
   "execution_count": null,
   "id": "02e11e88",
   "metadata": {},
   "outputs": [
    {
     "name": "stdout",
     "output_type": "stream",
     "text": [
      "enter key 1:1\n",
      "enter key 2:2\n",
      "{'key1': '1', 'key2': '2'}\n",
      "enter key 1:4\n",
      "enter key 2:5\n",
      "{'key1': '4', 'key2': '5'}\n"
     ]
    }
   ],
   "source": [
    "# take 5 values and keys in dictionary and show in list\n",
    "l=[]\n",
    "for i in range(5):\n",
    "    d ={\n",
    "        'key1': input('enter key 1:'),\n",
    "        'key2': input('enter key 2:')\n",
    "    }\n",
    "    l.append(d)\n",
    "    print(d)"
   ]
  },
  {
   "cell_type": "code",
   "execution_count": null,
   "id": "1d864e74",
   "metadata": {},
   "outputs": [],
   "source": [
    "a=[1,2,3]\n",
    "b=a\n",
    "b[0]=100\n",
    "print(a)\n",
    "print(b)\n"
   ]
  },
  {
   "cell_type": "code",
   "execution_count": null,
   "id": "cae6942b",
   "metadata": {},
   "outputs": [],
   "source": [
    "print('hello')"
   ]
  },
  {
   "cell_type": "code",
   "execution_count": null,
   "id": "208a2f9a",
   "metadata": {},
   "outputs": [],
   "source": []
  },
  {
   "cell_type": "code",
   "execution_count": null,
   "id": "46df64cd",
   "metadata": {},
   "outputs": [],
   "source": []
  }
 ],
 "metadata": {
  "kernelspec": {
   "display_name": "Python 3 (ipykernel)",
   "language": "python",
   "name": "python3"
  },
  "language_info": {
   "codemirror_mode": {
    "name": "ipython",
    "version": 3
   },
   "file_extension": ".py",
   "mimetype": "text/x-python",
   "name": "python",
   "nbconvert_exporter": "python",
   "pygments_lexer": "ipython3",
   "version": "3.9.13"
  }
 },
 "nbformat": 4,
 "nbformat_minor": 5
}

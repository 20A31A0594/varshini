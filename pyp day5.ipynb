{
 "cells": [
  {
   "cell_type": "code",
   "execution_count": 1,
   "id": "c1a4e1db",
   "metadata": {},
   "outputs": [
    {
     "name": "stdout",
     "output_type": "stream",
     "text": [
      "10\n",
      "MUKESH\n"
     ]
    }
   ],
   "source": [
    "#packages: taking data as values from one file and taking arguments from another file\n",
    "#encapsulation:combining of data\n",
    "#abstraction:hiding the data\n",
    "#polymorphism:\n",
    "#inheritance: taking properties from parent to child class\n",
    "#single level\n",
    "class A:\n",
    "    name=\"MUKESH\"\n",
    "    age=36\n",
    "class B(A):\n",
    "    age=10\n",
    "obj=B()\n",
    "print(obj.age)\n",
    "print(obj.name)"
   ]
  },
  {
   "cell_type": "code",
   "execution_count": 2,
   "id": "c22ee4ce",
   "metadata": {},
   "outputs": [
    {
     "name": "stdout",
     "output_type": "stream",
     "text": [
      "10\n",
      "ramesh\n"
     ]
    }
   ],
   "source": [
    "class A:\n",
    "    name=\"MUKESH\"\n",
    "    age=36\n",
    "class B(A):\n",
    "    age=10\n",
    "obj=B()\n",
    "obj.name=\"ramesh\"\n",
    "print(obj.age)\n",
    "print(obj.name)"
   ]
  },
  {
   "cell_type": "code",
   "execution_count": 3,
   "id": "d5cabb63",
   "metadata": {},
   "outputs": [
    {
     "name": "stdout",
     "output_type": "stream",
     "text": [
      "10\n",
      "ramesh\n"
     ]
    }
   ],
   "source": [
    "#multilevel\n",
    "class A:\n",
    "    name=\"MUKESH\"\n",
    "    age=36\n",
    "class B(A):\n",
    "    age=10\n",
    "class C(B):\n",
    "    pass\n",
    "class D(C):\n",
    "    pass\n",
    "obj=B()\n",
    "obj.name=\"ramesh\"\n",
    "print(obj.age)\n",
    "print(obj.name)"
   ]
  },
  {
   "cell_type": "code",
   "execution_count": 18,
   "id": "74c885fd",
   "metadata": {},
   "outputs": [
    {
     "name": "stdout",
     "output_type": "stream",
     "text": [
      "77\n",
      "ramesh\n",
      "594\n",
      "444\n"
     ]
    }
   ],
   "source": [
    "class A:\n",
    "    name=\"MUKESH\"\n",
    "    age=36\n",
    "    marks=444\n",
    "    roll=666\n",
    "class B(A):\n",
    "    age=10\n",
    "    roll=540\n",
    "class C(B):\n",
    "    roll=594\n",
    "    age=77\n",
    "class D(C):\n",
    "    marks=99\n",
    "    #first it will values for c then updates to b and then to a\n",
    "obj=C()\n",
    "#obj=B()\n",
    "#obj=A()\n",
    "obj.name=\"ramesh\"\n",
    "print(obj.age)\n",
    "print(obj.name)\n",
    "print(obj.roll)\n",
    "print(obj.marks)"
   ]
  },
  {
   "cell_type": "code",
   "execution_count": 23,
   "id": "f3df86d2",
   "metadata": {},
   "outputs": [],
   "source": [
    "#hierarchial\n",
    "class person:\n",
    "    name=\"\"\n",
    "    gender=\"\"\n",
    "    age=\"\"\n",
    "class Student(person):\n",
    "    roll_num=\"\"\n",
    "    branch=\"\"\n",
    "class faculty(person):\n",
    "    salary=10000\n",
    "    subject=\"\"\n",
    "    reportsTo=\"\"\n",
    "class VC(person):\n",
    "    def give_salary(self):\n",
    "        print(\"m\")\n",
    "    def take_fees(self):\n",
    "        print(\"h\")"
   ]
  },
  {
   "cell_type": "code",
   "execution_count": 22,
   "id": "c9266d8e",
   "metadata": {},
   "outputs": [
    {
     "name": "stdout",
     "output_type": "stream",
     "text": [
      "hello\n"
     ]
    }
   ],
   "source": [
    "print(\"hello\")"
   ]
  },
  {
   "cell_type": "code",
   "execution_count": 24,
   "id": "6f17a9c4",
   "metadata": {},
   "outputs": [
    {
     "name": "stdout",
     "output_type": "stream",
     "text": [
      "in parent class 1\n"
     ]
    }
   ],
   "source": [
    "#multiple inheritance also called as dymend problem\n",
    "class P1:\n",
    "    def m1(self):\n",
    "        print(\"in parent class 1\")\n",
    "class P2:\n",
    "    def m1(self):\n",
    "        print(\"in parent class 2\")\n",
    "class C(P1, P2):\n",
    "    pass\n",
    "obj=C()\n",
    "obj.m1()"
   ]
  },
  {
   "cell_type": "code",
   "execution_count": 25,
   "id": "1fcbdb41",
   "metadata": {},
   "outputs": [
    {
     "name": "stdout",
     "output_type": "stream",
     "text": [
      "in parent class 2\n"
     ]
    }
   ],
   "source": [
    "class P1:\n",
    "    def m1(self):\n",
    "        print(\"in parent class 1\")\n",
    "class P2:\n",
    "    def m1(self):\n",
    "        print(\"in parent class 2\")\n",
    "class C(P2, P1):\n",
    "    pass\n",
    "obj=C()\n",
    "obj.m1()"
   ]
  },
  {
   "cell_type": "code",
   "execution_count": 1,
   "id": "35d35c24",
   "metadata": {},
   "outputs": [
    {
     "name": "stdout",
     "output_type": "stream",
     "text": [
      "choose among the following: ['rock', 'paper', 'scissor']\n",
      "player choice:rock\n",
      "System choice:scissor\n",
      "your score:1,system score:0\n",
      "choose among the following: ['rock', 'paper', 'scissor']\n",
      "player choice:scissor\n",
      "System choice:scissor\n",
      "---------Draw---------\n",
      "your score:1,system score:0\n",
      "choose among the following: ['rock', 'paper', 'scissor']\n",
      "player choice:rock\n",
      "System choice:paper\n",
      "your score:1,system score:1\n",
      "choose among the following: ['rock', 'paper', 'scissor']\n",
      "player choice:paper\n",
      "System choice:paper\n",
      "---------Draw---------\n",
      "your score:1,system score:1\n",
      "choose among the following: ['rock', 'paper', 'scissor']\n",
      "player choice:rock\n",
      "System choice:paper\n",
      "your score:1,system score:2\n",
      "choose among the following: ['rock', 'paper', 'scissor']\n",
      "player choice:paper\n",
      "System choice:scissor\n",
      "your score:1,system score:3\n",
      "system win the match\n"
     ]
    }
   ],
   "source": [
    "from random import randint\n",
    "choice=[\"rock\",\"paper\",\"scissor\"]\n",
    "p_score=0\n",
    "c_score=0\n",
    "limit=3\n",
    "while p_score!=limit and c_score!=limit:\n",
    "    print(f\"choose among the following:\", choice)\n",
    "    my_ch = input(\"player choice:\").lower()\n",
    "    if my_ch not in choice:\n",
    "        print(\"invalid input\")\n",
    "        continue\n",
    "    sys_ch=choice[int(randint(0,2))]\n",
    "    print(f\"System choice:{sys_ch}\")\n",
    "    if my_ch == sys_ch:\n",
    "        print(\"---------Draw---------\")\n",
    "    elif my_ch==\"rock\" and sys_ch ==\"scissor\":\n",
    "        p_score+=1\n",
    "    elif my_ch==\"paper\" and sys_ch ==\"rock\":\n",
    "        p_score+=1\n",
    "    elif my_ch==\"scissor\" and sys_ch ==\"paper\":\n",
    "        p_score+=1\n",
    "    else:\n",
    "        c_score+=1\n",
    "    print(f\"your score:{p_score},system score:{c_score}\")\n",
    "\n",
    "if p_score>c_score:\n",
    "    print(\"you win the match\")\n",
    "else:\n",
    "    print(\"system win the match\")"
   ]
  },
  {
   "cell_type": "code",
   "execution_count": null,
   "id": "fc7e8354",
   "metadata": {},
   "outputs": [],
   "source": []
  }
 ],
 "metadata": {
  "kernelspec": {
   "display_name": "Python 3 (ipykernel)",
   "language": "python",
   "name": "python3"
  },
  "language_info": {
   "codemirror_mode": {
    "name": "ipython",
    "version": 3
   },
   "file_extension": ".py",
   "mimetype": "text/x-python",
   "name": "python",
   "nbconvert_exporter": "python",
   "pygments_lexer": "ipython3",
   "version": "3.9.13"
  }
 },
 "nbformat": 4,
 "nbformat_minor": 5
}
